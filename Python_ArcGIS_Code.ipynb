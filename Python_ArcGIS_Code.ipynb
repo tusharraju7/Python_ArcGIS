{
 "cells": [
  {
   "cell_type": "code",
   "execution_count": 16,
   "id": "66f4a80c",
   "metadata": {},
   "outputs": [
    {
     "name": "stderr",
     "output_type": "stream",
     "text": [
      "Profile rajutush_utoronto does not have a password on file through keyring. If you are expecting this behavior (PKI or IWA authentication, entering password through run-time prompt, etc.), please ignore this message. If you would like to store your password in the rajutush_utoronto profile, run GIS(profile = 'rajutush_utoronto', password = ...). See the API doc for more details. (http://bit.ly/2CK2wG8)\n",
      "Setting `verify_cert` to False is a security risk, use at your own risk.\n"
     ]
    },
    {
     "name": "stdout",
     "output_type": "stream",
     "text": [
      "Please sign in to your GIS and paste the code that is obtained below.\n",
      "If a web browser does not automatically open, please navigate to the URL below yourself instead.\n",
      "Opening web browser to navigate to: https://utoronto.maps.arcgis.com/sharing/rest/oauth2/authorize?response_type=code&client_id=JvkrjiDn08FnVg9k&redirect_uri=urn%3Aietf%3Awg%3Aoauth%3A2.0%3Aoob&state=JnrwzhIA8nzzGHEkHnjO46ZCWZlUWk&allow_verification=false\n",
      "Enter code obtained on signing in using SAML: ········\n"
     ]
    }
   ],
   "source": [
    "#Initiating Mapping\n",
    "from arcgis.gis import GIS\n",
    "def connection(url,clientid,profile):\n",
    "    \"\"\"This function connects the python environment to the ARC GIS environment.\"\"\"\n",
    "    try:\n",
    "        return GIS(url,client_id=clientid,verify_cert=False,profile=profile)\n",
    "    except:\n",
    "        print(\"Connection Failed. Check information\")\n",
    "gis = connection(\"https://utoronto.maps.arcgis.com\",\"INSERT_KEY\",'INSERT_ID')"
   ]
  },
  {
   "cell_type": "code",
   "execution_count": 17,
   "id": "77d2ee95",
   "metadata": {},
   "outputs": [
    {
     "data": {
      "text/plain": [
       "[<Item title:\"RSM8431 Toronto Neighbourhoods\" type:Feature Layer Collection owner:macdo925_utoronto>,\n",
       " <Item title:\"utoronto\" type:Feature Layer Collection owner:macdo925_utoronto>,\n",
       " <Item title:\"Crime2018\" type:Feature Layer Collection owner:macdo925_utoronto>]"
      ]
     },
     "execution_count": 17,
     "metadata": {},
     "output_type": "execute_result"
    }
   ],
   "source": [
    "#Searching for a feature layer consisting of the Toronto neighbourhoods to map the boundaries. Utilized the layer created by the professor.\n",
    "search_results = gis.content.search('owner:macdo925_utoronto',\n",
    "                                    'Feature Layer')\n",
    "search_results"
   ]
  },
  {
   "cell_type": "code",
   "execution_count": 18,
   "id": "213ec722",
   "metadata": {},
   "outputs": [
    {
     "data": {
      "text/plain": [
       "[<FeatureLayer url:\"https://services1.arcgis.com/9NvE8jKNWWlDGsUJ/arcgis/rest/services/RSM8431_Toronto_Neighbourhoods/FeatureServer/0\">]"
      ]
     },
     "execution_count": 18,
     "metadata": {},
     "output_type": "execute_result"
    }
   ],
   "source": [
    "new_item = search_results[0]\n",
    "new_item.layers"
   ]
  },
  {
   "cell_type": "code",
   "execution_count": 19,
   "id": "1f47d94c",
   "metadata": {},
   "outputs": [
    {
     "data": {
      "text/plain": [
       "Index(['FID', 'NAME', 'neighb', 'avg_black', 'avg_ethnic', 'avg_plico',\n",
       "       'avg_phhlds', 'avg_yngmal', 'avg_tpop', 'avg_movers', 'avg_ttpop',\n",
       "       'avg_unemp', 'avg_ttlabf', 'avg_divml', 'avg_ttlml', 'avg_ttlinc',\n",
       "       'avg_ttlhhd', 'avg_lonepa', 'avg_ttlfam', 'avg_univer', 'avg_ttledu',\n",
       "       'avg_gvttra', 'avg_ttlsou', 'avg_rctimm', 'avg_owned', 'avg_ttlown',\n",
       "       'pct_black', 'pct_poor', 'pct_bucks', 'pct_mob', 'pct_unemp', 'pct_div',\n",
       "       'avg_hhinc', 'pct_lpar', 'pct_ba', 'pct_dole', 'pct_immig', 'pct_owner',\n",
       "       'mvictims_s', 'fvictims_s', 'intfemi', 'gunhomi', 'males15_34',\n",
       "       'ttl_victim', 'RecentImmi', 'disadv_nob', 'log_avgpop', 'AvgTotPop',\n",
       "       'Zavg_hhinc', 'Zpct_lpar', 'Zpct_dole', 'disadvanta', 'disadvan_1',\n",
       "       'census86re', 'census91re', 'census96re', 'census01re', 'c86_tpop',\n",
       "       'c91_tpop', 'c96_tpop', 'c01_tpop', 'Avgcensus', 'LoMedHi', 'avgpop',\n",
       "       'youngmales', 'AvgTotPop1', 'males15_35', 'males15_36', 'ttlviclag',\n",
       "       'intfemlag', 'younglag', 'intfem2lag', 'Shape__Area', 'Shape__Length',\n",
       "       'SHAPE'],\n",
       "      dtype='object')"
      ]
     },
     "execution_count": 19,
     "metadata": {},
     "output_type": "execute_result"
    }
   ],
   "source": [
    "from arcgis.features import FeatureLayer\n",
    "src_url = \"https://services1.arcgis.com/9NvE8jKNWWlDGsUJ/arcgis/rest/services/RSM8431_Toronto_Neighbourhoods/FeatureServer/0\"\n",
    "fl = FeatureLayer(url=src_url)\n",
    "fset_toronto = fl.query(as_df=True)\n",
    "fset_toronto.columns"
   ]
  },
  {
   "cell_type": "code",
   "execution_count": 20,
   "id": "8e22fb6e",
   "metadata": {},
   "outputs": [
    {
     "data": {
      "text/plain": [
       "<FeatureSet> 140 features"
      ]
     },
     "execution_count": 20,
     "metadata": {},
     "output_type": "execute_result"
    }
   ],
   "source": [
    "fset_toronto = fl.query()\n",
    "fset_toronto"
   ]
  },
  {
   "cell_type": "code",
   "execution_count": 21,
   "id": "ad637b1b",
   "metadata": {},
   "outputs": [],
   "source": [
    "df_toronto = fset_toronto.sdf[[\"NAME\",\"SHAPE\",'Shape__Area', 'Shape__Length','avg_tpop']]\n",
    "#Creating a function to align the neighbourhood names between the mapping data and the covid data imported in the below cells.\n",
    "def replaceval(df,new,old):\n",
    "    \"\"\"Replacing the neighbourhood name's to ensure alignment between the datasets.\"\"\"\n",
    "    try:\n",
    "        df.loc[df['NAME'] == old, 'NAME'] = new\n",
    "    except IndexError as e:\n",
    "        print(f\"{e}\")\n",
    "#Sorting Data    \n",
    "df_toronto = df_toronto.sort_values(by=['NAME'],ignore_index=True)"
   ]
  },
  {
   "cell_type": "code",
   "execution_count": 22,
   "id": "a8863789",
   "metadata": {},
   "outputs": [],
   "source": [
    "#Loading Dataset - https://open.toronto.ca/dataset/covid-19-cases-in-toronto/\n",
    "#Pivot tables created using excel.\n",
    "#Importing the Data\n",
    "import pandas as pd\n",
    "datainput = 'C:/Users/91967/Downloads/Rotman/Main Subjects/RSM8431 - Analytics Colloquia/Python/COVID19 cases.xlsx'"
   ]
  },
  {
   "cell_type": "code",
   "execution_count": 23,
   "id": "0a10049f",
   "metadata": {},
   "outputs": [],
   "source": [
    "#Processing Data\n",
    "covidstatus = pd.read_excel(datainput,\"Modified COVID Status\")\n",
    "replaceval(covidstatus, 'Brichcliffe-Cliffside', 'Birchcliffe-Cliffside')\n",
    "replaceval(covidstatus, 'Bridle Path-Sunnybrooke-York Mills', 'Bridle Path-Sunnybrook-York Mills')\n",
    "replaceval(covidstatus, 'Cabbagetown-South St.Jamestown', 'Cabbagetown-South St. James Town')\n",
    "replaceval(covidstatus, 'Caledonia - Fairbanks', 'Caledonia-Fairbank')\n",
    "replaceval(covidstatus, 'Centenial Scarborough', 'Centennial Scarborough')\n",
    "replaceval(covidstatus, 'Corsa Italia-Davenport', 'Corso Italia-Davenport')\n",
    "replaceval(covidstatus, 'Danforth Village Toronto', 'Danforth')\n",
    "replaceval(covidstatus, 'Danforth Village East York', 'Danforth-East York')\n",
    "replaceval(covidstatus, 'Dowsnview-Roding-CFB', 'Downsview-Roding-CFB')\n",
    "replaceval(covidstatus, 'East End Danforth', 'East End-Danforth')\n",
    "replaceval(covidstatus, 'Junction', 'Junction Area')\n",
    "replaceval(covidstatus, 'Lambton-Baby Point', 'Lambton Baby Point')\n",
    "replaceval(covidstatus, \"L'Amoureaux\", \"L'Amoreaux\")\n",
    "replaceval(covidstatus, 'Markland Woods', 'Markland Wood')\n",
    "replaceval(covidstatus, 'Mimco', 'Mimico (includes Humber Bay Shores)')\n",
    "replaceval(covidstatus, 'North St.Jamestown', 'North St. James Town')\n",
    "replaceval(covidstatus, 'Oakwood-Vaughan', 'Oakwood Village')\n",
    "replaceval(covidstatus, \"O'Conner-Parkview\", \"O'Connor-Parkview\")\n",
    "replaceval(covidstatus, 'Rockliffe-Smythe', 'Rockcliffe-Smythe')\n",
    "replaceval(covidstatus, 'Wexford/Maryville', 'Wexford/Maryvale')\n",
    "replaceval(covidstatus, 'Crescent Town', 'Taylor-Massey')\n",
    "covidstatus = covidstatus.sort_values(by=['NAME'],ignore_index=True)"
   ]
  },
  {
   "cell_type": "code",
   "execution_count": 24,
   "id": "1e55ca6b",
   "metadata": {},
   "outputs": [
    {
     "data": {
      "application/vnd.jupyter.widget-view+json": {
       "model_id": "8efaaf87bb29496e927cb11ec659276e",
       "version_major": 2,
       "version_minor": 0
      },
      "text/plain": [
       "MapView(layout=Layout(height='400px', width='100%'), legend=True)"
      ]
     },
     "metadata": {},
     "output_type": "display_data"
    },
    {
     "data": {
      "text/html": [
       "<div class=\"map-static-img-preview-53dea886-c13b-4c69-9019-e8e9e45485a3\"><img src=\"\"></img></div>"
      ],
      "text/plain": [
       "<IPython.core.display.HTML object>"
      ]
     },
     "metadata": {},
     "output_type": "display_data"
    },
    {
     "data": {
      "text/html": [
       "<div class=\"map-html-embed-preview-53dea886-c13b-4c69-9019-e8e9e45485a3\"></div>"
      ],
      "text/plain": [
       "<IPython.core.display.HTML object>"
      ]
     },
     "metadata": {},
     "output_type": "display_data"
    }
   ],
   "source": [
    "#Mapping the average population of each neighbourhood on the map.\n",
    "map1 = gis.map(\"Toronto\",zoomlevel=11)\n",
    "map1.add_layer(fl,   { \"type\": \"FeatureLayer\",\n",
    "                       \"renderer\":\"ClassedSizeRenderer\",\n",
    "                       \"field_name\":\"avg_tpop\"})\n",
    "map1.legend = True\n",
    "map1"
   ]
  },
  {
   "cell_type": "code",
   "execution_count": 25,
   "id": "bd9c23cb",
   "metadata": {},
   "outputs": [],
   "source": [
    "#Merging Datasets - Appending Columns\n",
    "df_toronto['Resolved'] = covidstatus['RESOLVED']\n",
    "df_toronto['Deaths'] = covidstatus['FATAL']"
   ]
  },
  {
   "cell_type": "code",
   "execution_count": 26,
   "id": "ff8bd214",
   "metadata": {},
   "outputs": [],
   "source": [
    "#Using the merge function causes a misalignment. Therefore we just sorted the tables and added the columns to the data as the rows are the same.\n",
    "#df_toronto1 = df_toronto.merge(covidstatus,on=\"NAME\",how=\"left\")"
   ]
  },
  {
   "cell_type": "code",
   "execution_count": 27,
   "id": "206acb32",
   "metadata": {},
   "outputs": [
    {
     "data": {
      "application/vnd.jupyter.widget-view+json": {
       "model_id": "a7e5ebdd383d4dfd8225f78f451e5886",
       "version_major": 2,
       "version_minor": 0
      },
      "text/plain": [
       "MapView(layout=Layout(height='400px', width='100%'), legend=True)"
      ]
     },
     "metadata": {},
     "output_type": "display_data"
    },
    {
     "data": {
      "text/html": [
       "<div class=\"map-static-img-preview-df4233f8-df1b-4405-96f5-83ed5a8ff67a\"><img src=\"\"></img></div>"
      ],
      "text/plain": [
       "<IPython.core.display.HTML object>"
      ]
     },
     "metadata": {},
     "output_type": "display_data"
    },
    {
     "data": {
      "text/html": [
       "<div class=\"map-html-embed-preview-df4233f8-df1b-4405-96f5-83ed5a8ff67a\"></div>"
      ],
      "text/plain": [
       "<IPython.core.display.HTML object>"
      ]
     },
     "metadata": {},
     "output_type": "display_data"
    }
   ],
   "source": [
    "#Mapping resolved cases per neighbourhood.\n",
    "toronto_map1 = gis.map(\"Toronto\",zoomlevel=11)\n",
    "toronto_map1.clear_graphics()\n",
    "try:\n",
    "    df_toronto.spatial.plot(map_widget=toronto_map1,renderer_type='c',method='esriClassifyNaturalBreaks',class_count=5,col='Resolved',cmap='plasma')\n",
    "    toronto_map1.legend = True\n",
    "except:\n",
    "    print(\"Error in mapping. Please check data. Possible depreciation in functions used by code.\")\n",
    "toronto_map1"
   ]
  },
  {
   "cell_type": "code",
   "execution_count": 28,
   "id": "ff8dbc36",
   "metadata": {},
   "outputs": [
    {
     "data": {
      "application/vnd.jupyter.widget-view+json": {
       "model_id": "36987ba531654a1f8a2e326539302044",
       "version_major": 2,
       "version_minor": 0
      },
      "text/plain": [
       "MapView(layout=Layout(height='400px', width='100%'), legend=True)"
      ]
     },
     "metadata": {},
     "output_type": "display_data"
    },
    {
     "data": {
      "text/html": [
       "<div class=\"map-static-img-preview-c109645e-1ae0-487a-b23a-c03279c25b27\"><img src=\"\"></img></div>"
      ],
      "text/plain": [
       "<IPython.core.display.HTML object>"
      ]
     },
     "metadata": {},
     "output_type": "display_data"
    },
    {
     "data": {
      "text/html": [
       "<div class=\"map-html-embed-preview-c109645e-1ae0-487a-b23a-c03279c25b27\"></div>"
      ],
      "text/plain": [
       "<IPython.core.display.HTML object>"
      ]
     },
     "metadata": {},
     "output_type": "display_data"
    }
   ],
   "source": [
    "#Mapping fatalities per neighbourhood\n",
    "toronto_map2 = gis.map(\"Toronto\",zoomlevel=11)\n",
    "toronto_map2.clear_graphics()\n",
    "try:\n",
    "    df_toronto.spatial.plot(map_widget=toronto_map2,renderer_type='c',method='esriClassifyNaturalBreaks',class_count=5,col='Deaths',cmap='magma')\n",
    "    toronto_map2.legend = True\n",
    "except:\n",
    "    print(\"Error in mapping. Please check data. Possible depreciation in functions used by code.\")\n",
    "toronto_map2"
   ]
  },
  {
   "cell_type": "code",
   "execution_count": 29,
   "id": "5a2b0091",
   "metadata": {},
   "outputs": [
    {
     "data": {
      "text/html": [
       "<div>\n",
       "<style scoped>\n",
       "    .dataframe tbody tr th:only-of-type {\n",
       "        vertical-align: middle;\n",
       "    }\n",
       "\n",
       "    .dataframe tbody tr th {\n",
       "        vertical-align: top;\n",
       "    }\n",
       "\n",
       "    .dataframe thead th {\n",
       "        text-align: right;\n",
       "    }\n",
       "</style>\n",
       "<table border=\"1\" class=\"dataframe\">\n",
       "  <thead>\n",
       "    <tr style=\"text-align: right;\">\n",
       "      <th></th>\n",
       "      <th>EpisodeDate</th>\n",
       "      <th>NumberOfCases</th>\n",
       "    </tr>\n",
       "  </thead>\n",
       "  <tbody>\n",
       "    <tr>\n",
       "      <th>0</th>\n",
       "      <td>2020-01-21 00:00:00</td>\n",
       "      <td>1</td>\n",
       "    </tr>\n",
       "    <tr>\n",
       "      <th>1</th>\n",
       "      <td>2020-01-22 00:00:00</td>\n",
       "      <td>2</td>\n",
       "    </tr>\n",
       "    <tr>\n",
       "      <th>2</th>\n",
       "      <td>2020-01-27 00:00:00</td>\n",
       "      <td>1</td>\n",
       "    </tr>\n",
       "    <tr>\n",
       "      <th>3</th>\n",
       "      <td>2020-02-01 00:00:00</td>\n",
       "      <td>1</td>\n",
       "    </tr>\n",
       "    <tr>\n",
       "      <th>4</th>\n",
       "      <td>2020-02-05 00:00:00</td>\n",
       "      <td>1</td>\n",
       "    </tr>\n",
       "    <tr>\n",
       "      <th>...</th>\n",
       "      <td>...</td>\n",
       "      <td>...</td>\n",
       "    </tr>\n",
       "    <tr>\n",
       "      <th>1314</th>\n",
       "      <td>2023-09-22 00:00:00</td>\n",
       "      <td>63</td>\n",
       "    </tr>\n",
       "    <tr>\n",
       "      <th>1315</th>\n",
       "      <td>2023-09-23 00:00:00</td>\n",
       "      <td>45</td>\n",
       "    </tr>\n",
       "    <tr>\n",
       "      <th>1316</th>\n",
       "      <td>2023-09-24 00:00:00</td>\n",
       "      <td>45</td>\n",
       "    </tr>\n",
       "    <tr>\n",
       "      <th>1317</th>\n",
       "      <td>2023-09-25 00:00:00</td>\n",
       "      <td>56</td>\n",
       "    </tr>\n",
       "    <tr>\n",
       "      <th>1318</th>\n",
       "      <td>2023-09-26 00:00:00</td>\n",
       "      <td>2</td>\n",
       "    </tr>\n",
       "  </tbody>\n",
       "</table>\n",
       "<p>1319 rows × 2 columns</p>\n",
       "</div>"
      ],
      "text/plain": [
       "              EpisodeDate  NumberOfCases\n",
       "0     2020-01-21 00:00:00              1\n",
       "1     2020-01-22 00:00:00              2\n",
       "2     2020-01-27 00:00:00              1\n",
       "3     2020-02-01 00:00:00              1\n",
       "4     2020-02-05 00:00:00              1\n",
       "...                   ...            ...\n",
       "1314  2023-09-22 00:00:00             63\n",
       "1315  2023-09-23 00:00:00             45\n",
       "1316  2023-09-24 00:00:00             45\n",
       "1317  2023-09-25 00:00:00             56\n",
       "1318  2023-09-26 00:00:00              2\n",
       "\n",
       "[1319 rows x 2 columns]"
      ]
     },
     "execution_count": 29,
     "metadata": {},
     "output_type": "execute_result"
    }
   ],
   "source": [
    "import matplotlib.pyplot as plt\n",
    "covidcases = pd.read_excel(datainput,\"COVID19 Number of Cases\")\n",
    "covidcases = covidcases.drop(covidcases.index[-1])\n",
    "covidcases"
   ]
  },
  {
   "cell_type": "code",
   "execution_count": 30,
   "id": "4e0f0e40",
   "metadata": {},
   "outputs": [
    {
     "data": {
      "image/png": "[encoded data removed]",
      "text/plain": [
       "<Figure size 640x480 with 1 Axes>"
      ]
     },
     "metadata": {},
     "output_type": "display_data"
    }
   ],
   "source": [
    "#Plotting function to identify trends.\n",
    "def plottingtool(x,y):\n",
    "    \"\"\"Plot graphs between x & y to identify trends.\"\"\"\n",
    "    try:\n",
    "        plt.plot(x,y)\n",
    "    except:\n",
    "        print(\"Mapping variables need to be checked.\")\n",
    "#Visualizing the data of the number of cases against dates to see the trends across the years.    \n",
    "plottingtool(covidcases.EpisodeDate,covidcases.NumberOfCases)"
   ]
  },
  {
   "cell_type": "code",
   "execution_count": null,
   "id": "2c3d546c",
   "metadata": {},
   "outputs": [],
   "source": []
  }
 ],
 "metadata": {
  "kernelspec": {
   "display_name": "Python 3 (ipykernel)",
   "language": "python",
   "name": "python3"
  },
  "language_info": {
   "codemirror_mode": {
    "name": "ipython",
    "version": 3
   },
   "file_extension": ".py",
   "mimetype": "text/x-python",
   "name": "python",
   "nbconvert_exporter": "python",
   "pygments_lexer": "ipython3",
   "version": "3.9.18"
  }
 },
 "nbformat": 4,
 "nbformat_minor": 5
}
